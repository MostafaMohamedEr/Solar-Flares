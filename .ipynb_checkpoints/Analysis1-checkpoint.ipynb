{
 "cells": [
  {
   "cell_type": "code",
   "execution_count": 1,
   "metadata": {},
   "outputs": [],
   "source": [
    "# modules\n",
    "import numpy as np\n",
    "import matplotlib.pyplot as plt\n",
    "import matplotlib as mpl\n",
    "import pandas as pd\n",
    "\n",
    "%matplotlib inline\n",
    "\n",
    "# ignore unnecessary\n",
    "import warnings\n",
    "warnings.filterwarnings(\"ignore\")"
   ]
  },
  {
   "cell_type": "code",
   "execution_count": 2,
   "metadata": {},
   "outputs": [],
   "source": [
    "# load the data\n",
    "nasa_csv = pd.read_csv('nasa.csv', index_col=0)\n",
    "space_csv = pd.read_csv('space.csv', index_col=0)"
   ]
  },
  {
   "cell_type": "code",
   "execution_count": 3,
   "metadata": {
    "scrolled": false
   },
   "outputs": [
    {
     "data": {
      "text/html": [
       "<div>\n",
       "<style scoped>\n",
       "    .dataframe tbody tr th:only-of-type {\n",
       "        vertical-align: middle;\n",
       "    }\n",
       "\n",
       "    .dataframe tbody tr th {\n",
       "        vertical-align: top;\n",
       "    }\n",
       "\n",
       "    .dataframe thead th {\n",
       "        text-align: right;\n",
       "    }\n",
       "</style>\n",
       "<table border=\"1\" class=\"dataframe\">\n",
       "  <thead>\n",
       "    <tr style=\"text-align: right;\">\n",
       "      <th></th>\n",
       "      <th>Start_Datetime</th>\n",
       "      <th>End_Datetime</th>\n",
       "      <th>startFrequency</th>\n",
       "      <th>endFrequency</th>\n",
       "      <th>flare_Location</th>\n",
       "      <th>flare_region</th>\n",
       "      <th>importance</th>\n",
       "      <th>CME_Date</th>\n",
       "      <th>CME_Time</th>\n",
       "      <th>width</th>\n",
       "      <th>speed</th>\n",
       "      <th>CPA</th>\n",
       "      <th>is_halo</th>\n",
       "      <th>lower_bound</th>\n",
       "    </tr>\n",
       "  </thead>\n",
       "  <tbody>\n",
       "    <tr>\n",
       "      <th>0</th>\n",
       "      <td>1997-04-01 14:00:00</td>\n",
       "      <td>1997-04-01 14:15:00</td>\n",
       "      <td>8000</td>\n",
       "      <td>4000</td>\n",
       "      <td>S25E16</td>\n",
       "      <td>8026</td>\n",
       "      <td>M1.3</td>\n",
       "      <td>04/01</td>\n",
       "      <td>15:18</td>\n",
       "      <td>79.0</td>\n",
       "      <td>312.0</td>\n",
       "      <td>74</td>\n",
       "      <td>False</td>\n",
       "      <td>False</td>\n",
       "    </tr>\n",
       "    <tr>\n",
       "      <th>1</th>\n",
       "      <td>1997-04-07 14:30:00</td>\n",
       "      <td>1997-04-07 17:30:00</td>\n",
       "      <td>11000</td>\n",
       "      <td>1000</td>\n",
       "      <td>S28E19</td>\n",
       "      <td>8027</td>\n",
       "      <td>C6.8</td>\n",
       "      <td>04/07</td>\n",
       "      <td>14:27</td>\n",
       "      <td>360.0</td>\n",
       "      <td>878.0</td>\n",
       "      <td>na</td>\n",
       "      <td>True</td>\n",
       "      <td>False</td>\n",
       "    </tr>\n",
       "    <tr>\n",
       "      <th>2</th>\n",
       "      <td>1997-05-12 05:15:00</td>\n",
       "      <td>1997-05-14 16:00:00</td>\n",
       "      <td>12000</td>\n",
       "      <td>80</td>\n",
       "      <td>N21W08</td>\n",
       "      <td>8038</td>\n",
       "      <td>C1.3</td>\n",
       "      <td>05/12</td>\n",
       "      <td>05:30</td>\n",
       "      <td>360.0</td>\n",
       "      <td>464.0</td>\n",
       "      <td>na</td>\n",
       "      <td>True</td>\n",
       "      <td>False</td>\n",
       "    </tr>\n",
       "    <tr>\n",
       "      <th>3</th>\n",
       "      <td>1997-05-21 20:20:00</td>\n",
       "      <td>1997-05-21 22:00:00</td>\n",
       "      <td>5000</td>\n",
       "      <td>500</td>\n",
       "      <td>N05W12</td>\n",
       "      <td>8040</td>\n",
       "      <td>M1.3</td>\n",
       "      <td>05/21</td>\n",
       "      <td>21:00</td>\n",
       "      <td>165.0</td>\n",
       "      <td>296.0</td>\n",
       "      <td>263</td>\n",
       "      <td>False</td>\n",
       "      <td>False</td>\n",
       "    </tr>\n",
       "    <tr>\n",
       "      <th>4</th>\n",
       "      <td>1997-09-23 21:53:00</td>\n",
       "      <td>1997-09-23 22:16:00</td>\n",
       "      <td>6000</td>\n",
       "      <td>2000</td>\n",
       "      <td>S29E25</td>\n",
       "      <td>8088</td>\n",
       "      <td>C1.4</td>\n",
       "      <td>09/23</td>\n",
       "      <td>22:02</td>\n",
       "      <td>155.0</td>\n",
       "      <td>712.0</td>\n",
       "      <td>133</td>\n",
       "      <td>False</td>\n",
       "      <td>False</td>\n",
       "    </tr>\n",
       "  </tbody>\n",
       "</table>\n",
       "</div>"
      ],
      "text/plain": [
       "        Start_Datetime         End_Datetime startFrequency endFrequency  \\\n",
       "0  1997-04-01 14:00:00  1997-04-01 14:15:00           8000         4000   \n",
       "1  1997-04-07 14:30:00  1997-04-07 17:30:00          11000         1000   \n",
       "2  1997-05-12 05:15:00  1997-05-14 16:00:00          12000           80   \n",
       "3  1997-05-21 20:20:00  1997-05-21 22:00:00           5000          500   \n",
       "4  1997-09-23 21:53:00  1997-09-23 22:16:00           6000         2000   \n",
       "\n",
       "  flare_Location flare_region importance CME_Date CME_Time  width  speed  CPA  \\\n",
       "0         S25E16         8026       M1.3    04/01    15:18   79.0  312.0   74   \n",
       "1         S28E19         8027       C6.8    04/07    14:27  360.0  878.0   na   \n",
       "2         N21W08         8038       C1.3    05/12    05:30  360.0  464.0   na   \n",
       "3         N05W12         8040       M1.3    05/21    21:00  165.0  296.0  263   \n",
       "4         S29E25         8088       C1.4    09/23    22:02  155.0  712.0  133   \n",
       "\n",
       "   is_halo  lower_bound  \n",
       "0    False        False  \n",
       "1     True        False  \n",
       "2     True        False  \n",
       "3    False        False  \n",
       "4    False        False  "
      ]
     },
     "execution_count": 3,
     "metadata": {},
     "output_type": "execute_result"
    }
   ],
   "source": [
    "nasa_csv.head()"
   ]
  },
  {
   "cell_type": "code",
   "execution_count": 4,
   "metadata": {},
   "outputs": [
    {
     "data": {
      "text/plain": [
       "482"
      ]
     },
     "execution_count": 4,
     "metadata": {},
     "output_type": "execute_result"
    }
   ],
   "source": [
    "len(nasa_csv)"
   ]
  },
  {
   "cell_type": "code",
   "execution_count": 5,
   "metadata": {},
   "outputs": [
    {
     "data": {
      "text/html": [
       "<div>\n",
       "<style scoped>\n",
       "    .dataframe tbody tr th:only-of-type {\n",
       "        vertical-align: middle;\n",
       "    }\n",
       "\n",
       "    .dataframe tbody tr th {\n",
       "        vertical-align: top;\n",
       "    }\n",
       "\n",
       "    .dataframe thead th {\n",
       "        text-align: right;\n",
       "    }\n",
       "</style>\n",
       "<table border=\"1\" class=\"dataframe\">\n",
       "  <thead>\n",
       "    <tr style=\"text-align: right;\">\n",
       "      <th></th>\n",
       "      <th>Rank</th>\n",
       "      <th>X_class</th>\n",
       "      <th>Region</th>\n",
       "      <th>Start_time</th>\n",
       "      <th>Max_time</th>\n",
       "      <th>End_time</th>\n",
       "    </tr>\n",
       "  </thead>\n",
       "  <tbody>\n",
       "    <tr>\n",
       "      <th>45</th>\n",
       "      <td>46</td>\n",
       "      <td>X2.7</td>\n",
       "      <td>2339</td>\n",
       "      <td>2015-05-05 22:05:00</td>\n",
       "      <td>2015-05-05 22:11:00</td>\n",
       "      <td>2015-05-05 22:15:00</td>\n",
       "    </tr>\n",
       "    <tr>\n",
       "      <th>46</th>\n",
       "      <td>47</td>\n",
       "      <td>X2.7</td>\n",
       "      <td>488</td>\n",
       "      <td>2003-11-03 01:09:00</td>\n",
       "      <td>2003-11-03 01:30:00</td>\n",
       "      <td>2003-11-03 01:45:00</td>\n",
       "    </tr>\n",
       "    <tr>\n",
       "      <th>47</th>\n",
       "      <td>48</td>\n",
       "      <td>X2.7</td>\n",
       "      <td>8210</td>\n",
       "      <td>1998-05-06 07:58:00</td>\n",
       "      <td>1998-05-06 08:09:00</td>\n",
       "      <td>1998-05-06 08:20:00</td>\n",
       "    </tr>\n",
       "    <tr>\n",
       "      <th>48</th>\n",
       "      <td>49</td>\n",
       "      <td>X2.6</td>\n",
       "      <td>720</td>\n",
       "      <td>2005-01-15 22:25:00</td>\n",
       "      <td>2005-01-15 23:02:00</td>\n",
       "      <td>2005-01-15 23:31:00</td>\n",
       "    </tr>\n",
       "    <tr>\n",
       "      <th>49</th>\n",
       "      <td>50</td>\n",
       "      <td>X2.6</td>\n",
       "      <td>9632</td>\n",
       "      <td>2001-09-24 09:32:00</td>\n",
       "      <td>2001-09-24 10:38:00</td>\n",
       "      <td>2001-09-24 11:09:00</td>\n",
       "    </tr>\n",
       "  </tbody>\n",
       "</table>\n",
       "</div>"
      ],
      "text/plain": [
       "    Rank X_class  Region           Start_time             Max_time  \\\n",
       "45    46    X2.7    2339  2015-05-05 22:05:00  2015-05-05 22:11:00   \n",
       "46    47    X2.7     488  2003-11-03 01:09:00  2003-11-03 01:30:00   \n",
       "47    48    X2.7    8210  1998-05-06 07:58:00  1998-05-06 08:09:00   \n",
       "48    49    X2.6     720  2005-01-15 22:25:00  2005-01-15 23:02:00   \n",
       "49    50    X2.6    9632  2001-09-24 09:32:00  2001-09-24 10:38:00   \n",
       "\n",
       "               End_time  \n",
       "45  2015-05-05 22:15:00  \n",
       "46  2003-11-03 01:45:00  \n",
       "47  1998-05-06 08:20:00  \n",
       "48  2005-01-15 23:31:00  \n",
       "49  2001-09-24 11:09:00  "
      ]
     },
     "execution_count": 5,
     "metadata": {},
     "output_type": "execute_result"
    }
   ],
   "source": [
    "space_csv.tail()"
   ]
  },
  {
   "cell_type": "code",
   "execution_count": 6,
   "metadata": {},
   "outputs": [
    {
     "data": {
      "text/plain": [
       "50"
      ]
     },
     "execution_count": 6,
     "metadata": {},
     "output_type": "execute_result"
    }
   ],
   "source": [
    "len(space_csv)"
   ]
  },
  {
   "cell_type": "markdown",
   "metadata": {},
   "source": [
    "## Getting Data Ready for Analysis\n",
    "- Removing non-numerical items from numerical columns\n",
    "- Types conversion \n",
    "- unifying attributes\n",
    " - NASA flare region has 5 digits. e.g. 10486\n",
    " - Space flare region has 4 digits. e.g. 0486"
   ]
  },
  {
   "cell_type": "markdown",
   "metadata": {},
   "source": [
    "### Seperate importance \n",
    "- Seperate the importance column into 2 columns\n",
    " - importance_1: character representing the **Solar Flare** class\n",
    " - importance_2: float representing the class value"
   ]
  },
  {
   "cell_type": "code",
   "execution_count": 7,
   "metadata": {},
   "outputs": [],
   "source": [
    "def seperateImportance(df, col_name='importance', numbers=True, letters=True):\n",
    "    if col_name == 'X_class':\n",
    "        # remove the char in the last\n",
    "        df['X_class'] = df['X_class'].apply(lambda x: x[:-1] if x[-1] == '+' else x)\n",
    "\n",
    "    if letters:\n",
    "        df['importance_1'] = df[col_name].str.slice(start=0, stop=1)\n",
    "    if numbers:\n",
    "        df['importance_2'] = df[col_name].str.slice(start=1).astype('float')\n",
    "    return df"
   ]
  },
  {
   "cell_type": "code",
   "execution_count": 8,
   "metadata": {},
   "outputs": [],
   "source": [
    "# Cast attributes to datetime stamp \n",
    "def to_datetime(df, nasa=False, space=False):\n",
    "    if nasa:\n",
    "        df.Start_Datetime = pd.to_datetime(df.Start_Datetime)\n",
    "        df.End_Datetime = pd.to_datetime(df.End_Datetime)\n",
    "        df.CME_Time = pd.to_datetime(df.CME_Time)\n",
    "    if space:\n",
    "        df.Start_time = pd.to_datetime(df.Start_time)\n",
    "        df.Max_time = pd.to_datetime(df.Max_time)\n",
    "        df.End_time = pd.to_datetime(df.End_time)\n",
    "    \n",
    "    return df"
   ]
  },
  {
   "cell_type": "code",
   "execution_count": 9,
   "metadata": {},
   "outputs": [],
   "source": [
    "# Cast time attributes to datetime stamp\n",
    "nasa_csv = to_datetime(nasa_csv, nasa=True)\n",
    "space_csv = to_datetime(space_csv, space=True)"
   ]
  },
  {
   "cell_type": "code",
   "execution_count": 10,
   "metadata": {},
   "outputs": [],
   "source": [
    "# replacing 'non-numerical values' with nan in the importance column\n",
    "nasa_csv = nasa_csv[nasa_csv.importance != 'FILA']\n",
    "\n",
    "# replacing 'non-numerical values' with nan in the region column\n",
    "nasa_csv.flare_region = nasa_csv.flare_region.str.extract('(\\d+)', expand=False)"
   ]
  },
  {
   "cell_type": "code",
   "execution_count": 11,
   "metadata": {},
   "outputs": [],
   "source": [
    "# cast flare region to float\n",
    "nasa_csv.flare_region = nasa_csv.flare_region.astype('float')\n",
    "# change NASA's flare region from 5 to 4 digits\n",
    "nasa_csv.flare_region = nasa_csv.flare_region.apply(lambda x:x-10000 if x>10000 else x)\n",
    "\n",
    "# preprocess space flare region\n",
    "space_csv.Region = space_csv.Region.astype('float')"
   ]
  },
  {
   "cell_type": "code",
   "execution_count": 12,
   "metadata": {},
   "outputs": [
    {
     "data": {
      "text/plain": [
       "Rank                   int64\n",
       "X_class               object\n",
       "Region               float64\n",
       "Start_time    datetime64[ns]\n",
       "Max_time      datetime64[ns]\n",
       "End_time      datetime64[ns]\n",
       "dtype: object"
      ]
     },
     "execution_count": 12,
     "metadata": {},
     "output_type": "execute_result"
    }
   ],
   "source": [
    "# show data types\n",
    "space_csv.dtypes"
   ]
  },
  {
   "cell_type": "code",
   "execution_count": 13,
   "metadata": {},
   "outputs": [
    {
     "data": {
      "text/plain": [
       "Start_Datetime    datetime64[ns]\n",
       "End_Datetime      datetime64[ns]\n",
       "startFrequency            object\n",
       "endFrequency              object\n",
       "flare_Location            object\n",
       "flare_region             float64\n",
       "importance                object\n",
       "CME_Date                  object\n",
       "CME_Time          datetime64[ns]\n",
       "width                    float64\n",
       "speed                    float64\n",
       "CPA                       object\n",
       "is_halo                     bool\n",
       "lower_bound                 bool\n",
       "dtype: object"
      ]
     },
     "execution_count": 13,
     "metadata": {},
     "output_type": "execute_result"
    }
   ],
   "source": [
    "nasa_csv.dtypes"
   ]
  },
  {
   "cell_type": "markdown",
   "metadata": {},
   "source": [
    "# Part 2 Q1: Replication  "
   ]
  },
  {
   "cell_type": "code",
   "execution_count": 14,
   "metadata": {
    "scrolled": true
   },
   "outputs": [],
   "source": [
    "# seperate importance\n",
    "nasa_csv = seperateImportance(nasa_csv, 'importance')"
   ]
  },
  {
   "cell_type": "markdown",
   "metadata": {},
   "source": [
    "### Sorting the dataframe according to the importance of the Solar Flare\n",
    "- First, it sorts using `importance_1` values so the character `X` is put at the top of the table\n",
    "- Second, it sorts using `importance_2` values so the flares with the highes value are put at the top"
   ]
  },
  {
   "cell_type": "code",
   "execution_count": 15,
   "metadata": {},
   "outputs": [],
   "source": [
    "nasa_csv = nasa_csv.sort_values(['importance_1', 'importance_2'], ascending=False)"
   ]
  },
  {
   "cell_type": "code",
   "execution_count": 16,
   "metadata": {},
   "outputs": [],
   "source": [
    "# drop the importance_1, importance_2 columns\n",
    "nasa_csv.drop(['importance_1', 'importance_2'], axis=1, inplace=True)"
   ]
  },
  {
   "cell_type": "code",
   "execution_count": 17,
   "metadata": {
    "scrolled": false
   },
   "outputs": [
    {
     "data": {
      "text/html": [
       "<div>\n",
       "<style scoped>\n",
       "    .dataframe tbody tr th:only-of-type {\n",
       "        vertical-align: middle;\n",
       "    }\n",
       "\n",
       "    .dataframe tbody tr th {\n",
       "        vertical-align: top;\n",
       "    }\n",
       "\n",
       "    .dataframe thead th {\n",
       "        text-align: right;\n",
       "    }\n",
       "</style>\n",
       "<table border=\"1\" class=\"dataframe\">\n",
       "  <thead>\n",
       "    <tr style=\"text-align: right;\">\n",
       "      <th></th>\n",
       "      <th>Start_Datetime</th>\n",
       "      <th>End_Datetime</th>\n",
       "      <th>startFrequency</th>\n",
       "      <th>endFrequency</th>\n",
       "      <th>flare_Location</th>\n",
       "      <th>flare_region</th>\n",
       "      <th>importance</th>\n",
       "      <th>CME_Date</th>\n",
       "      <th>CME_Time</th>\n",
       "      <th>width</th>\n",
       "      <th>speed</th>\n",
       "      <th>CPA</th>\n",
       "      <th>is_halo</th>\n",
       "      <th>lower_bound</th>\n",
       "    </tr>\n",
       "  </thead>\n",
       "  <tbody>\n",
       "    <tr>\n",
       "      <th>242</th>\n",
       "      <td>2003-11-04 20:00:00</td>\n",
       "      <td>2003-11-05 00:00:00</td>\n",
       "      <td>10000</td>\n",
       "      <td>200</td>\n",
       "      <td>S19W83</td>\n",
       "      <td>486.0</td>\n",
       "      <td>X28.</td>\n",
       "      <td>11/04</td>\n",
       "      <td>2020-03-26 19:54:00</td>\n",
       "      <td>360.0</td>\n",
       "      <td>2657.0</td>\n",
       "      <td>na</td>\n",
       "      <td>True</td>\n",
       "      <td>False</td>\n",
       "    </tr>\n",
       "    <tr>\n",
       "      <th>119</th>\n",
       "      <td>2001-04-02 22:05:00</td>\n",
       "      <td>2001-04-03 02:30:00</td>\n",
       "      <td>14000</td>\n",
       "      <td>250</td>\n",
       "      <td>N19W72</td>\n",
       "      <td>9393.0</td>\n",
       "      <td>X20.</td>\n",
       "      <td>04/02</td>\n",
       "      <td>2020-03-26 22:06:00</td>\n",
       "      <td>244.0</td>\n",
       "      <td>2505.0</td>\n",
       "      <td>261</td>\n",
       "      <td>False</td>\n",
       "      <td>False</td>\n",
       "    </tr>\n",
       "    <tr>\n",
       "      <th>234</th>\n",
       "      <td>2003-10-28 11:10:00</td>\n",
       "      <td>2003-10-30 00:00:00</td>\n",
       "      <td>14000</td>\n",
       "      <td>40</td>\n",
       "      <td>S16E08</td>\n",
       "      <td>486.0</td>\n",
       "      <td>X17.</td>\n",
       "      <td>10/28</td>\n",
       "      <td>2020-03-26 11:30:00</td>\n",
       "      <td>360.0</td>\n",
       "      <td>2459.0</td>\n",
       "      <td>na</td>\n",
       "      <td>True</td>\n",
       "      <td>False</td>\n",
       "    </tr>\n",
       "  </tbody>\n",
       "</table>\n",
       "</div>"
      ],
      "text/plain": [
       "         Start_Datetime        End_Datetime startFrequency endFrequency  \\\n",
       "242 2003-11-04 20:00:00 2003-11-05 00:00:00          10000          200   \n",
       "119 2001-04-02 22:05:00 2001-04-03 02:30:00          14000          250   \n",
       "234 2003-10-28 11:10:00 2003-10-30 00:00:00          14000           40   \n",
       "\n",
       "    flare_Location  flare_region importance CME_Date            CME_Time  \\\n",
       "242         S19W83         486.0       X28.    11/04 2020-03-26 19:54:00   \n",
       "119         N19W72        9393.0       X20.    04/02 2020-03-26 22:06:00   \n",
       "234         S16E08         486.0       X17.    10/28 2020-03-26 11:30:00   \n",
       "\n",
       "     width   speed  CPA  is_halo  lower_bound  \n",
       "242  360.0  2657.0   na     True        False  \n",
       "119  244.0  2505.0  261    False        False  \n",
       "234  360.0  2459.0   na     True        False  "
      ]
     },
     "execution_count": 17,
     "metadata": {},
     "output_type": "execute_result"
    }
   ],
   "source": [
    "# showing top 3\n",
    "nasa_csv[:3]"
   ]
  },
  {
   "cell_type": "markdown",
   "metadata": {},
   "source": [
    "### Replication Analysis"
   ]
  },
  {
   "cell_type": "code",
   "execution_count": 18,
   "metadata": {},
   "outputs": [],
   "source": [
    "# get the top 50 of nasa\n",
    "nasa_50 = nasa_csv[:50]"
   ]
  },
  {
   "cell_type": "markdown",
   "metadata": {},
   "source": [
    "### Replication Criteria \n",
    "- in Both NASA and SPACE dataframes\n",
    " 1. Get all flares that happened in the same region\n",
    " 2. Get all flares that have the same starting time \n",
    " 3. Check the number of rows\n",
    " 4. Check the mean of the flare `X_class` and `importance`"
   ]
  },
  {
   "cell_type": "code",
   "execution_count": 19,
   "metadata": {},
   "outputs": [
    {
     "name": "stdout",
     "output_type": "stream",
     "text": [
      "Number of matching rows: 32\n"
     ]
    }
   ],
   "source": [
    "dicOfMatch={}\n",
    "for s_row in space_csv.itertuples(index=False):\n",
    "    same_region = []\n",
    "    # checking the same region\n",
    "    for n_row in nasa_50.itertuples(index=False):\n",
    "        if s_row.Region == n_row.flare_region:\n",
    "             same_region.append(n_row)\n",
    "\n",
    "    # chacking the same starting date[year, month, day]\n",
    "    for n_row in same_region:\n",
    "        if n_row.Start_Datetime.date()==s_row.Start_time.date():\n",
    "            dicOfMatch[s_row]=n_row\n",
    "print(f'Number of matching rows: {len(dicOfMatch)}')"
   ]
  },
  {
   "cell_type": "code",
   "execution_count": 20,
   "metadata": {},
   "outputs": [
    {
     "data": {
      "text/html": [
       "<div>\n",
       "<style scoped>\n",
       "    .dataframe tbody tr th:only-of-type {\n",
       "        vertical-align: middle;\n",
       "    }\n",
       "\n",
       "    .dataframe tbody tr th {\n",
       "        vertical-align: top;\n",
       "    }\n",
       "\n",
       "    .dataframe thead th {\n",
       "        text-align: right;\n",
       "    }\n",
       "</style>\n",
       "<table border=\"1\" class=\"dataframe\">\n",
       "  <thead>\n",
       "    <tr style=\"text-align: right;\">\n",
       "      <th></th>\n",
       "      <th>Start_Datetime</th>\n",
       "      <th>End_Datetime</th>\n",
       "      <th>startFrequency</th>\n",
       "      <th>endFrequency</th>\n",
       "      <th>flare_Location</th>\n",
       "      <th>flare_region</th>\n",
       "      <th>importance</th>\n",
       "      <th>CME_Date</th>\n",
       "      <th>CME_Time</th>\n",
       "      <th>width</th>\n",
       "      <th>speed</th>\n",
       "      <th>CPA</th>\n",
       "      <th>is_halo</th>\n",
       "      <th>lower_bound</th>\n",
       "    </tr>\n",
       "  </thead>\n",
       "  <tbody>\n",
       "    <tr>\n",
       "      <th>0</th>\n",
       "      <td>2003-11-04 20:00:00</td>\n",
       "      <td>2003-11-05 00:00:00</td>\n",
       "      <td>10000</td>\n",
       "      <td>200</td>\n",
       "      <td>S19W83</td>\n",
       "      <td>486.0</td>\n",
       "      <td>X28.</td>\n",
       "      <td>11/04</td>\n",
       "      <td>2020-03-26 19:54:00</td>\n",
       "      <td>360.0</td>\n",
       "      <td>2657.0</td>\n",
       "      <td>na</td>\n",
       "      <td>True</td>\n",
       "      <td>False</td>\n",
       "    </tr>\n",
       "    <tr>\n",
       "      <th>1</th>\n",
       "      <td>2001-04-02 22:05:00</td>\n",
       "      <td>2001-04-03 02:30:00</td>\n",
       "      <td>14000</td>\n",
       "      <td>250</td>\n",
       "      <td>N19W72</td>\n",
       "      <td>9393.0</td>\n",
       "      <td>X20.</td>\n",
       "      <td>04/02</td>\n",
       "      <td>2020-03-26 22:06:00</td>\n",
       "      <td>244.0</td>\n",
       "      <td>2505.0</td>\n",
       "      <td>261</td>\n",
       "      <td>False</td>\n",
       "      <td>False</td>\n",
       "    </tr>\n",
       "    <tr>\n",
       "      <th>2</th>\n",
       "      <td>2003-10-28 11:10:00</td>\n",
       "      <td>2003-10-30 00:00:00</td>\n",
       "      <td>14000</td>\n",
       "      <td>40</td>\n",
       "      <td>S16E08</td>\n",
       "      <td>486.0</td>\n",
       "      <td>X17.</td>\n",
       "      <td>10/28</td>\n",
       "      <td>2020-03-26 11:30:00</td>\n",
       "      <td>360.0</td>\n",
       "      <td>2459.0</td>\n",
       "      <td>na</td>\n",
       "      <td>True</td>\n",
       "      <td>False</td>\n",
       "    </tr>\n",
       "    <tr>\n",
       "      <th>3</th>\n",
       "      <td>2001-04-15 14:05:00</td>\n",
       "      <td>2001-04-16 13:00:00</td>\n",
       "      <td>14000</td>\n",
       "      <td>40</td>\n",
       "      <td>S20W85</td>\n",
       "      <td>9415.0</td>\n",
       "      <td>X14.</td>\n",
       "      <td>04/15</td>\n",
       "      <td>2020-03-26 14:06:00</td>\n",
       "      <td>167.0</td>\n",
       "      <td>1199.0</td>\n",
       "      <td>245</td>\n",
       "      <td>False</td>\n",
       "      <td>False</td>\n",
       "    </tr>\n",
       "    <tr>\n",
       "      <th>4</th>\n",
       "      <td>2003-10-29 20:55:00</td>\n",
       "      <td>2003-10-30 00:00:00</td>\n",
       "      <td>11000</td>\n",
       "      <td>500</td>\n",
       "      <td>S15W02</td>\n",
       "      <td>486.0</td>\n",
       "      <td>X10.</td>\n",
       "      <td>10/29</td>\n",
       "      <td>2020-03-26 20:54:00</td>\n",
       "      <td>360.0</td>\n",
       "      <td>2029.0</td>\n",
       "      <td>na</td>\n",
       "      <td>True</td>\n",
       "      <td>False</td>\n",
       "    </tr>\n",
       "  </tbody>\n",
       "</table>\n",
       "</div>"
      ],
      "text/plain": [
       "       Start_Datetime        End_Datetime startFrequency endFrequency  \\\n",
       "0 2003-11-04 20:00:00 2003-11-05 00:00:00          10000          200   \n",
       "1 2001-04-02 22:05:00 2001-04-03 02:30:00          14000          250   \n",
       "2 2003-10-28 11:10:00 2003-10-30 00:00:00          14000           40   \n",
       "3 2001-04-15 14:05:00 2001-04-16 13:00:00          14000           40   \n",
       "4 2003-10-29 20:55:00 2003-10-30 00:00:00          11000          500   \n",
       "\n",
       "  flare_Location  flare_region importance CME_Date            CME_Time  width  \\\n",
       "0         S19W83         486.0       X28.    11/04 2020-03-26 19:54:00  360.0   \n",
       "1         N19W72        9393.0       X20.    04/02 2020-03-26 22:06:00  244.0   \n",
       "2         S16E08         486.0       X17.    10/28 2020-03-26 11:30:00  360.0   \n",
       "3         S20W85        9415.0       X14.    04/15 2020-03-26 14:06:00  167.0   \n",
       "4         S15W02         486.0       X10.    10/29 2020-03-26 20:54:00  360.0   \n",
       "\n",
       "    speed  CPA  is_halo  lower_bound  \n",
       "0  2657.0   na     True        False  \n",
       "1  2505.0  261    False        False  \n",
       "2  2459.0   na     True        False  \n",
       "3  1199.0  245    False        False  \n",
       "4  2029.0   na     True        False  "
      ]
     },
     "execution_count": 20,
     "metadata": {},
     "output_type": "execute_result"
    }
   ],
   "source": [
    "match_nasa = pd.DataFrame(dicOfMatch.values())\n",
    "match_nasa[:5]"
   ]
  },
  {
   "cell_type": "code",
   "execution_count": 21,
   "metadata": {},
   "outputs": [
    {
     "data": {
      "text/html": [
       "<div>\n",
       "<style scoped>\n",
       "    .dataframe tbody tr th:only-of-type {\n",
       "        vertical-align: middle;\n",
       "    }\n",
       "\n",
       "    .dataframe tbody tr th {\n",
       "        vertical-align: top;\n",
       "    }\n",
       "\n",
       "    .dataframe thead th {\n",
       "        text-align: right;\n",
       "    }\n",
       "</style>\n",
       "<table border=\"1\" class=\"dataframe\">\n",
       "  <thead>\n",
       "    <tr style=\"text-align: right;\">\n",
       "      <th></th>\n",
       "      <th>Rank</th>\n",
       "      <th>X_class</th>\n",
       "      <th>Region</th>\n",
       "      <th>Start_time</th>\n",
       "      <th>Max_time</th>\n",
       "      <th>End_time</th>\n",
       "    </tr>\n",
       "  </thead>\n",
       "  <tbody>\n",
       "    <tr>\n",
       "      <th>0</th>\n",
       "      <td>1</td>\n",
       "      <td>X28+</td>\n",
       "      <td>486.0</td>\n",
       "      <td>2003-11-04 19:29:00</td>\n",
       "      <td>2003-11-04 19:53:00</td>\n",
       "      <td>2003-11-04 20:06:00</td>\n",
       "    </tr>\n",
       "    <tr>\n",
       "      <th>1</th>\n",
       "      <td>2</td>\n",
       "      <td>X20+</td>\n",
       "      <td>9393.0</td>\n",
       "      <td>2001-04-02 21:32:00</td>\n",
       "      <td>2001-04-02 21:51:00</td>\n",
       "      <td>2001-04-02 22:03:00</td>\n",
       "    </tr>\n",
       "    <tr>\n",
       "      <th>2</th>\n",
       "      <td>3</td>\n",
       "      <td>X17.2+</td>\n",
       "      <td>486.0</td>\n",
       "      <td>2003-10-28 09:51:00</td>\n",
       "      <td>2003-10-28 11:10:00</td>\n",
       "      <td>2003-10-28 11:24:00</td>\n",
       "    </tr>\n",
       "    <tr>\n",
       "      <th>3</th>\n",
       "      <td>5</td>\n",
       "      <td>X14.4</td>\n",
       "      <td>9415.0</td>\n",
       "      <td>2001-04-15 13:19:00</td>\n",
       "      <td>2001-04-15 13:50:00</td>\n",
       "      <td>2001-04-15 13:55:00</td>\n",
       "    </tr>\n",
       "    <tr>\n",
       "      <th>4</th>\n",
       "      <td>6</td>\n",
       "      <td>X10</td>\n",
       "      <td>486.0</td>\n",
       "      <td>2003-10-29 20:37:00</td>\n",
       "      <td>2003-10-29 20:49:00</td>\n",
       "      <td>2003-10-29 21:01:00</td>\n",
       "    </tr>\n",
       "  </tbody>\n",
       "</table>\n",
       "</div>"
      ],
      "text/plain": [
       "   Rank X_class  Region          Start_time            Max_time  \\\n",
       "0     1    X28+   486.0 2003-11-04 19:29:00 2003-11-04 19:53:00   \n",
       "1     2    X20+  9393.0 2001-04-02 21:32:00 2001-04-02 21:51:00   \n",
       "2     3  X17.2+   486.0 2003-10-28 09:51:00 2003-10-28 11:10:00   \n",
       "3     5   X14.4  9415.0 2001-04-15 13:19:00 2001-04-15 13:50:00   \n",
       "4     6     X10   486.0 2003-10-29 20:37:00 2003-10-29 20:49:00   \n",
       "\n",
       "             End_time  \n",
       "0 2003-11-04 20:06:00  \n",
       "1 2001-04-02 22:03:00  \n",
       "2 2003-10-28 11:24:00  \n",
       "3 2001-04-15 13:55:00  \n",
       "4 2003-10-29 21:01:00  "
      ]
     },
     "execution_count": 21,
     "metadata": {},
     "output_type": "execute_result"
    }
   ],
   "source": [
    "match_space = pd.DataFrame(dicOfMatch.keys())\n",
    "match_space[:5]"
   ]
  },
  {
   "cell_type": "code",
   "execution_count": 22,
   "metadata": {
    "scrolled": true
   },
   "outputs": [],
   "source": [
    "match_nasa = seperateImportance(match_nasa, letters=False)\n",
    "match_space = seperateImportance(match_space, 'X_class', letters=False)"
   ]
  },
  {
   "cell_type": "code",
   "execution_count": 23,
   "metadata": {},
   "outputs": [
    {
     "name": "stdout",
     "output_type": "stream",
     "text": [
      "Mean: 0.19374999999999998\n"
     ]
    }
   ],
   "source": [
    "# getting the mean\n",
    "print(\"Mean:\", (abs(match_nasa.importance_2 - match_space.importance_2)).mean())"
   ]
  },
  {
   "cell_type": "markdown",
   "metadata": {},
   "source": [
    "### Conclusion Analysis \n",
    "- When doing the matching using the region where the flare happened and the date of the region\n",
    " - we only get 32 matching rows\n",
    " - the mean differnce between the NASA's `importance` and SPACE `X_class` is: `0.19374999999999998`\n",
    "- So based on that the 2 datasets have slightly different values for the same Flare event, so we won't be able to replicate the whole data with high accuracy"
   ]
  },
  {
   "cell_type": "markdown",
   "metadata": {},
   "source": [
    "# Part 2 Q2: Integration  "
   ]
  },
  {
   "cell_type": "markdown",
   "metadata": {},
   "source": [
    "- get the common attributes\n",
    " - Start Time, End Stime, Region, CME Time, Importance\n",
    "- define the matching criteria"
   ]
  },
  {
   "cell_type": "code",
   "execution_count": 24,
   "metadata": {},
   "outputs": [],
   "source": [
    "# get smaller version of the 2 dataframes with only the common columns\n",
    "nasa_50_small = nasa_50[['importance', 'flare_region', 'Start_Datetime', 'End_Datetime', 'CME_Time']]"
   ]
  },
  {
   "cell_type": "code",
   "execution_count": 25,
   "metadata": {},
   "outputs": [
    {
     "data": {
      "text/html": [
       "<div>\n",
       "<style scoped>\n",
       "    .dataframe tbody tr th:only-of-type {\n",
       "        vertical-align: middle;\n",
       "    }\n",
       "\n",
       "    .dataframe tbody tr th {\n",
       "        vertical-align: top;\n",
       "    }\n",
       "\n",
       "    .dataframe thead th {\n",
       "        text-align: right;\n",
       "    }\n",
       "</style>\n",
       "<table border=\"1\" class=\"dataframe\">\n",
       "  <thead>\n",
       "    <tr style=\"text-align: right;\">\n",
       "      <th></th>\n",
       "      <th>importance</th>\n",
       "      <th>flare_region</th>\n",
       "      <th>Start_Datetime</th>\n",
       "      <th>End_Datetime</th>\n",
       "      <th>CME_Time</th>\n",
       "    </tr>\n",
       "  </thead>\n",
       "  <tbody>\n",
       "    <tr>\n",
       "      <th>242</th>\n",
       "      <td>X28.</td>\n",
       "      <td>486.0</td>\n",
       "      <td>2003-11-04 20:00:00</td>\n",
       "      <td>2003-11-05 00:00:00</td>\n",
       "      <td>2020-03-26 19:54:00</td>\n",
       "    </tr>\n",
       "    <tr>\n",
       "      <th>119</th>\n",
       "      <td>X20.</td>\n",
       "      <td>9393.0</td>\n",
       "      <td>2001-04-02 22:05:00</td>\n",
       "      <td>2001-04-03 02:30:00</td>\n",
       "      <td>2020-03-26 22:06:00</td>\n",
       "    </tr>\n",
       "    <tr>\n",
       "      <th>234</th>\n",
       "      <td>X17.</td>\n",
       "      <td>486.0</td>\n",
       "      <td>2003-10-28 11:10:00</td>\n",
       "      <td>2003-10-30 00:00:00</td>\n",
       "      <td>2020-03-26 11:30:00</td>\n",
       "    </tr>\n",
       "    <tr>\n",
       "      <th>128</th>\n",
       "      <td>X14.</td>\n",
       "      <td>9415.0</td>\n",
       "      <td>2001-04-15 14:05:00</td>\n",
       "      <td>2001-04-16 13:00:00</td>\n",
       "      <td>2020-03-26 14:06:00</td>\n",
       "    </tr>\n",
       "    <tr>\n",
       "      <th>235</th>\n",
       "      <td>X10.</td>\n",
       "      <td>486.0</td>\n",
       "      <td>2003-10-29 20:55:00</td>\n",
       "      <td>2003-10-30 00:00:00</td>\n",
       "      <td>2020-03-26 20:54:00</td>\n",
       "    </tr>\n",
       "  </tbody>\n",
       "</table>\n",
       "</div>"
      ],
      "text/plain": [
       "    importance  flare_region      Start_Datetime        End_Datetime  \\\n",
       "242       X28.         486.0 2003-11-04 20:00:00 2003-11-05 00:00:00   \n",
       "119       X20.        9393.0 2001-04-02 22:05:00 2001-04-03 02:30:00   \n",
       "234       X17.         486.0 2003-10-28 11:10:00 2003-10-30 00:00:00   \n",
       "128       X14.        9415.0 2001-04-15 14:05:00 2001-04-16 13:00:00   \n",
       "235       X10.         486.0 2003-10-29 20:55:00 2003-10-30 00:00:00   \n",
       "\n",
       "               CME_Time  \n",
       "242 2020-03-26 19:54:00  \n",
       "119 2020-03-26 22:06:00  \n",
       "234 2020-03-26 11:30:00  \n",
       "128 2020-03-26 14:06:00  \n",
       "235 2020-03-26 20:54:00  "
      ]
     },
     "execution_count": 25,
     "metadata": {},
     "output_type": "execute_result"
    }
   ],
   "source": [
    "nasa_50_small.head()"
   ]
  },
  {
   "cell_type": "markdown",
   "metadata": {},
   "source": [
    "### Criteria\n",
    "1. Region -> Matching(Equality)\n",
    "2. get the row with the minimum starting date"
   ]
  },
  {
   "cell_type": "code",
   "execution_count": 44,
   "metadata": {},
   "outputs": [],
   "source": [
    "def bestMatching(df1=space_csv, df2=nasa_50_small):\n",
    "    # seperate the value of the X-class/Importance from space\n",
    "    df1 = seperateImportance(df1, 'X_class', letters=False)\n",
    "    df2 = seperateImportance(df2, letters=False)\n",
    "\n",
    "    nasa_csv['Space_Rank'] = \"\"\n",
    "\n",
    "    rows = []\n",
    "    rank = {}\n",
    "    for row in df1.itertuples(index=True):\n",
    "        near_x = {}\n",
    "        for r in df2.itertuples(index=True):\n",
    "            near_x[abs(r.importance_2 - row.importance_2)] = r\n",
    "        if len(near_x) > 0:\n",
    "            best_match = near_x[min(near_x.keys())] \n",
    "            rows.append(best_match)\n",
    "            nasa_csv.Space_Rank.loc[best_match.Index] = nasa_csv.Space_Rank.loc[best_match.Index]+str(row.Rank)+' '\n",
    "        # calc mean error\n",
    "        mean_error = abs(pd.DataFrame(rows).importance_2 - df1.importance_2).mean()\n",
    "\n",
    "    \n",
    "    \n",
    "    return pd.DataFrame(rows).drop('importance_2', axis=1), mean_error"
   ]
  },
  {
   "cell_type": "code",
   "execution_count": 48,
   "metadata": {},
   "outputs": [
    {
     "name": "stdout",
     "output_type": "stream",
     "text": [
      "Mean Error: 0.020000000000000007\n"
     ]
    },
    {
     "data": {
      "text/html": [
       "<div>\n",
       "<style scoped>\n",
       "    .dataframe tbody tr th:only-of-type {\n",
       "        vertical-align: middle;\n",
       "    }\n",
       "\n",
       "    .dataframe tbody tr th {\n",
       "        vertical-align: top;\n",
       "    }\n",
       "\n",
       "    .dataframe thead th {\n",
       "        text-align: right;\n",
       "    }\n",
       "</style>\n",
       "<table border=\"1\" class=\"dataframe\">\n",
       "  <thead>\n",
       "    <tr style=\"text-align: right;\">\n",
       "      <th></th>\n",
       "      <th>Index</th>\n",
       "      <th>Start_Datetime</th>\n",
       "      <th>End_Datetime</th>\n",
       "      <th>startFrequency</th>\n",
       "      <th>endFrequency</th>\n",
       "      <th>flare_Location</th>\n",
       "      <th>flare_region</th>\n",
       "      <th>importance</th>\n",
       "      <th>CME_Date</th>\n",
       "      <th>CME_Time</th>\n",
       "      <th>width</th>\n",
       "      <th>speed</th>\n",
       "      <th>CPA</th>\n",
       "      <th>is_halo</th>\n",
       "      <th>lower_bound</th>\n",
       "    </tr>\n",
       "  </thead>\n",
       "  <tbody>\n",
       "    <tr>\n",
       "      <th>0</th>\n",
       "      <td>242</td>\n",
       "      <td>2003-11-04 20:00:00</td>\n",
       "      <td>2003-11-05 00:00:00</td>\n",
       "      <td>10000</td>\n",
       "      <td>200</td>\n",
       "      <td>S19W83</td>\n",
       "      <td>486.0</td>\n",
       "      <td>X28.</td>\n",
       "      <td>11/04</td>\n",
       "      <td>2020-03-26 19:54:00</td>\n",
       "      <td>360.0</td>\n",
       "      <td>2657.0</td>\n",
       "      <td>na</td>\n",
       "      <td>True</td>\n",
       "      <td>False</td>\n",
       "    </tr>\n",
       "    <tr>\n",
       "      <th>1</th>\n",
       "      <td>119</td>\n",
       "      <td>2001-04-02 22:05:00</td>\n",
       "      <td>2001-04-03 02:30:00</td>\n",
       "      <td>14000</td>\n",
       "      <td>250</td>\n",
       "      <td>N19W72</td>\n",
       "      <td>9393.0</td>\n",
       "      <td>X20.</td>\n",
       "      <td>04/02</td>\n",
       "      <td>2020-03-26 22:06:00</td>\n",
       "      <td>244.0</td>\n",
       "      <td>2505.0</td>\n",
       "      <td>261</td>\n",
       "      <td>False</td>\n",
       "      <td>False</td>\n",
       "    </tr>\n",
       "    <tr>\n",
       "      <th>2</th>\n",
       "      <td>234</td>\n",
       "      <td>2003-10-28 11:10:00</td>\n",
       "      <td>2003-10-30 00:00:00</td>\n",
       "      <td>14000</td>\n",
       "      <td>40</td>\n",
       "      <td>S16E08</td>\n",
       "      <td>486.0</td>\n",
       "      <td>X17.</td>\n",
       "      <td>10/28</td>\n",
       "      <td>2020-03-26 11:30:00</td>\n",
       "      <td>360.0</td>\n",
       "      <td>2459.0</td>\n",
       "      <td>na</td>\n",
       "      <td>True</td>\n",
       "      <td>False</td>\n",
       "    </tr>\n",
       "    <tr>\n",
       "      <th>3</th>\n",
       "      <td>234</td>\n",
       "      <td>2003-10-28 11:10:00</td>\n",
       "      <td>2003-10-30 00:00:00</td>\n",
       "      <td>14000</td>\n",
       "      <td>40</td>\n",
       "      <td>S16E08</td>\n",
       "      <td>486.0</td>\n",
       "      <td>X17.</td>\n",
       "      <td>10/28</td>\n",
       "      <td>2020-03-26 11:30:00</td>\n",
       "      <td>360.0</td>\n",
       "      <td>2459.0</td>\n",
       "      <td>na</td>\n",
       "      <td>True</td>\n",
       "      <td>False</td>\n",
       "    </tr>\n",
       "    <tr>\n",
       "      <th>4</th>\n",
       "      <td>128</td>\n",
       "      <td>2001-04-15 14:05:00</td>\n",
       "      <td>2001-04-16 13:00:00</td>\n",
       "      <td>14000</td>\n",
       "      <td>40</td>\n",
       "      <td>S20W85</td>\n",
       "      <td>9415.0</td>\n",
       "      <td>X14.</td>\n",
       "      <td>04/15</td>\n",
       "      <td>2020-03-26 14:06:00</td>\n",
       "      <td>167.0</td>\n",
       "      <td>1199.0</td>\n",
       "      <td>245</td>\n",
       "      <td>False</td>\n",
       "      <td>False</td>\n",
       "    </tr>\n",
       "  </tbody>\n",
       "</table>\n",
       "</div>"
      ],
      "text/plain": [
       "   Index      Start_Datetime        End_Datetime startFrequency endFrequency  \\\n",
       "0    242 2003-11-04 20:00:00 2003-11-05 00:00:00          10000          200   \n",
       "1    119 2001-04-02 22:05:00 2001-04-03 02:30:00          14000          250   \n",
       "2    234 2003-10-28 11:10:00 2003-10-30 00:00:00          14000           40   \n",
       "3    234 2003-10-28 11:10:00 2003-10-30 00:00:00          14000           40   \n",
       "4    128 2001-04-15 14:05:00 2001-04-16 13:00:00          14000           40   \n",
       "\n",
       "  flare_Location  flare_region importance CME_Date            CME_Time  width  \\\n",
       "0         S19W83         486.0       X28.    11/04 2020-03-26 19:54:00  360.0   \n",
       "1         N19W72        9393.0       X20.    04/02 2020-03-26 22:06:00  244.0   \n",
       "2         S16E08         486.0       X17.    10/28 2020-03-26 11:30:00  360.0   \n",
       "3         S16E08         486.0       X17.    10/28 2020-03-26 11:30:00  360.0   \n",
       "4         S20W85        9415.0       X14.    04/15 2020-03-26 14:06:00  167.0   \n",
       "\n",
       "    speed  CPA  is_halo  lower_bound  \n",
       "0  2657.0   na     True        False  \n",
       "1  2505.0  261    False        False  \n",
       "2  2459.0   na     True        False  \n",
       "3  2459.0   na     True        False  \n",
       "4  1199.0  245    False        False  "
      ]
     },
     "execution_count": 48,
     "metadata": {},
     "output_type": "execute_result"
    }
   ],
   "source": [
    "nasa_best_matching, mean_error = bestMatching(space_csv, nasa_50)\n",
    "print(f'Mean Error: {mean_error}')\n",
    "nasa_best_matching.head()"
   ]
  },
  {
   "cell_type": "code",
   "execution_count": 49,
   "metadata": {},
   "outputs": [
    {
     "data": {
      "text/html": [
       "<div>\n",
       "<style scoped>\n",
       "    .dataframe tbody tr th:only-of-type {\n",
       "        vertical-align: middle;\n",
       "    }\n",
       "\n",
       "    .dataframe tbody tr th {\n",
       "        vertical-align: top;\n",
       "    }\n",
       "\n",
       "    .dataframe thead th {\n",
       "        text-align: right;\n",
       "    }\n",
       "</style>\n",
       "<table border=\"1\" class=\"dataframe\">\n",
       "  <thead>\n",
       "    <tr style=\"text-align: right;\">\n",
       "      <th></th>\n",
       "      <th>Start_Datetime</th>\n",
       "      <th>End_Datetime</th>\n",
       "      <th>startFrequency</th>\n",
       "      <th>endFrequency</th>\n",
       "      <th>flare_Location</th>\n",
       "      <th>flare_region</th>\n",
       "      <th>importance</th>\n",
       "      <th>CME_Date</th>\n",
       "      <th>CME_Time</th>\n",
       "      <th>width</th>\n",
       "      <th>speed</th>\n",
       "      <th>CPA</th>\n",
       "      <th>is_halo</th>\n",
       "      <th>lower_bound</th>\n",
       "      <th>Space_Rank</th>\n",
       "    </tr>\n",
       "  </thead>\n",
       "  <tbody>\n",
       "    <tr>\n",
       "      <th>242</th>\n",
       "      <td>2003-11-04 20:00:00</td>\n",
       "      <td>2003-11-05 00:00:00</td>\n",
       "      <td>10000</td>\n",
       "      <td>200</td>\n",
       "      <td>S19W83</td>\n",
       "      <td>486.0</td>\n",
       "      <td>X28.</td>\n",
       "      <td>11/04</td>\n",
       "      <td>2020-03-26 19:54:00</td>\n",
       "      <td>360.0</td>\n",
       "      <td>2657.0</td>\n",
       "      <td>na</td>\n",
       "      <td>True</td>\n",
       "      <td>False</td>\n",
       "      <td>1</td>\n",
       "    </tr>\n",
       "    <tr>\n",
       "      <th>119</th>\n",
       "      <td>2001-04-02 22:05:00</td>\n",
       "      <td>2001-04-03 02:30:00</td>\n",
       "      <td>14000</td>\n",
       "      <td>250</td>\n",
       "      <td>N19W72</td>\n",
       "      <td>9393.0</td>\n",
       "      <td>X20.</td>\n",
       "      <td>04/02</td>\n",
       "      <td>2020-03-26 22:06:00</td>\n",
       "      <td>244.0</td>\n",
       "      <td>2505.0</td>\n",
       "      <td>261</td>\n",
       "      <td>False</td>\n",
       "      <td>False</td>\n",
       "      <td>2</td>\n",
       "    </tr>\n",
       "    <tr>\n",
       "      <th>234</th>\n",
       "      <td>2003-10-28 11:10:00</td>\n",
       "      <td>2003-10-30 00:00:00</td>\n",
       "      <td>14000</td>\n",
       "      <td>40</td>\n",
       "      <td>S16E08</td>\n",
       "      <td>486.0</td>\n",
       "      <td>X17.</td>\n",
       "      <td>10/28</td>\n",
       "      <td>2020-03-26 11:30:00</td>\n",
       "      <td>360.0</td>\n",
       "      <td>2459.0</td>\n",
       "      <td>na</td>\n",
       "      <td>True</td>\n",
       "      <td>False</td>\n",
       "      <td>3 4</td>\n",
       "    </tr>\n",
       "    <tr>\n",
       "      <th>128</th>\n",
       "      <td>2001-04-15 14:05:00</td>\n",
       "      <td>2001-04-16 13:00:00</td>\n",
       "      <td>14000</td>\n",
       "      <td>40</td>\n",
       "      <td>S20W85</td>\n",
       "      <td>9415.0</td>\n",
       "      <td>X14.</td>\n",
       "      <td>04/15</td>\n",
       "      <td>2020-03-26 14:06:00</td>\n",
       "      <td>167.0</td>\n",
       "      <td>1199.0</td>\n",
       "      <td>245</td>\n",
       "      <td>False</td>\n",
       "      <td>False</td>\n",
       "      <td>5</td>\n",
       "    </tr>\n",
       "    <tr>\n",
       "      <th>235</th>\n",
       "      <td>2003-10-29 20:55:00</td>\n",
       "      <td>2003-10-30 00:00:00</td>\n",
       "      <td>11000</td>\n",
       "      <td>500</td>\n",
       "      <td>S15W02</td>\n",
       "      <td>486.0</td>\n",
       "      <td>X10.</td>\n",
       "      <td>10/29</td>\n",
       "      <td>2020-03-26 20:54:00</td>\n",
       "      <td>360.0</td>\n",
       "      <td>2029.0</td>\n",
       "      <td>na</td>\n",
       "      <td>True</td>\n",
       "      <td>False</td>\n",
       "      <td>6</td>\n",
       "    </tr>\n",
       "  </tbody>\n",
       "</table>\n",
       "</div>"
      ],
      "text/plain": [
       "         Start_Datetime        End_Datetime startFrequency endFrequency  \\\n",
       "242 2003-11-04 20:00:00 2003-11-05 00:00:00          10000          200   \n",
       "119 2001-04-02 22:05:00 2001-04-03 02:30:00          14000          250   \n",
       "234 2003-10-28 11:10:00 2003-10-30 00:00:00          14000           40   \n",
       "128 2001-04-15 14:05:00 2001-04-16 13:00:00          14000           40   \n",
       "235 2003-10-29 20:55:00 2003-10-30 00:00:00          11000          500   \n",
       "\n",
       "    flare_Location  flare_region importance CME_Date            CME_Time  \\\n",
       "242         S19W83         486.0       X28.    11/04 2020-03-26 19:54:00   \n",
       "119         N19W72        9393.0       X20.    04/02 2020-03-26 22:06:00   \n",
       "234         S16E08         486.0       X17.    10/28 2020-03-26 11:30:00   \n",
       "128         S20W85        9415.0       X14.    04/15 2020-03-26 14:06:00   \n",
       "235         S15W02         486.0       X10.    10/29 2020-03-26 20:54:00   \n",
       "\n",
       "     width   speed  CPA  is_halo  lower_bound Space_Rank  \n",
       "242  360.0  2657.0   na     True        False         1   \n",
       "119  244.0  2505.0  261    False        False         2   \n",
       "234  360.0  2459.0   na     True        False       3 4   \n",
       "128  167.0  1199.0  245    False        False         5   \n",
       "235  360.0  2029.0   na     True        False         6   "
      ]
     },
     "execution_count": 49,
     "metadata": {},
     "output_type": "execute_result"
    }
   ],
   "source": [
    "nasa_csv.head()"
   ]
  },
  {
   "cell_type": "markdown",
   "metadata": {},
   "source": [
    "# Plotting "
   ]
  },
  {
   "cell_type": "code",
   "execution_count": null,
   "metadata": {},
   "outputs": [],
   "source": [
    "colors_list = ['#5cb85c','#d9534f']"
   ]
  },
  {
   "cell_type": "markdown",
   "metadata": {},
   "source": [
    "## Preprocessing "
   ]
  },
  {
   "cell_type": "code",
   "execution_count": null,
   "metadata": {},
   "outputs": [],
   "source": [
    "# LOAD NASA CSV\n",
    "nasa_csv = pd.read_csv('nasa.csv', index_col=0)"
   ]
  },
  {
   "cell_type": "code",
   "execution_count": null,
   "metadata": {},
   "outputs": [],
   "source": [
    "nasa_csv.head()"
   ]
  },
  {
   "cell_type": "code",
   "execution_count": null,
   "metadata": {},
   "outputs": [],
   "source": [
    "nasa_csv.dtypes"
   ]
  },
  {
   "cell_type": "markdown",
   "metadata": {},
   "source": [
    "# Halo Proportion: Nasa vs Nasa Top 50\n"
   ]
  },
  {
   "cell_type": "code",
   "execution_count": null,
   "metadata": {},
   "outputs": [],
   "source": [
    "nasa_50 = to_datetime(nasa_50)"
   ]
  },
  {
   "cell_type": "code",
   "execution_count": null,
   "metadata": {},
   "outputs": [],
   "source": [
    "nasa_50.dtypes"
   ]
  },
  {
   "cell_type": "code",
   "execution_count": null,
   "metadata": {},
   "outputs": [],
   "source": [
    "nasa_50.head()"
   ]
  },
  {
   "cell_type": "code",
   "execution_count": null,
   "metadata": {},
   "outputs": [],
   "source": [
    "# no 2\n",
    "sums = [nasa_50.is_halo.sum(), nasa_csv.is_halo.sum()]\n",
    "fig = plt.figure(figsize=(7, 5))\n",
    "ax = fig.add_axes([0, 0, 1, 1])\n",
    "ax.bar(['Top 50', 'Nasa'], sums, color=colors_list)\n",
    "ax.set_title('Number of Halos', fontsize=20)\n",
    "ax.set_ylabel('# Halos', fontsize=16)\n",
    "ax.set_xlabel('Data Frame', fontsize=16)\n",
    "plt.show()"
   ]
  },
  {
   "cell_type": "code",
   "execution_count": null,
   "metadata": {},
   "outputs": [],
   "source": [
    "nasa_50.Start_Datetime.iloc[0].month"
   ]
  },
  {
   "cell_type": "code",
   "execution_count": null,
   "metadata": {},
   "outputs": [],
   "source": [
    "flares_num = {}\n",
    "for t in nasa_50.Start_Datetime:\n",
    "    if t.month in flares_num:\n",
    "        flares_num[t.month] += 1\n",
    "    else:\n",
    "        flares_num[t.month] = 1"
   ]
  },
  {
   "cell_type": "code",
   "execution_count": null,
   "metadata": {},
   "outputs": [],
   "source": [
    "def flares_per_month(df):\n",
    "    flares_num = {}\n",
    "    for t in df.Start_Datetime:\n",
    "        if t.month in flares_num:\n",
    "            flares_num[t.month] += 1\n",
    "        else:\n",
    "            flares_num[t.month] = 1\n",
    "            \n",
    "    return flares_num"
   ]
  },
  {
   "cell_type": "code",
   "execution_count": null,
   "metadata": {},
   "outputs": [],
   "source": [
    "flares_num_50 = flares_per_month(nasa_50)"
   ]
  },
  {
   "cell_type": "code",
   "execution_count": null,
   "metadata": {},
   "outputs": [],
   "source": [
    "flares_num_50"
   ]
  },
  {
   "cell_type": "code",
   "execution_count": null,
   "metadata": {},
   "outputs": [],
   "source": [
    "len(flares_num_50)"
   ]
  },
  {
   "cell_type": "code",
   "execution_count": null,
   "metadata": {},
   "outputs": [],
   "source": [
    "plt.bar(flares_num_50.keys(), flares_num_50.values(), color=colors_list[0])\n",
    "plt.xticks(range(1,13))\n",
    "plt.show()"
   ]
  },
  {
   "cell_type": "code",
   "execution_count": null,
   "metadata": {},
   "outputs": [],
   "source": [
    "flares_num_all = flares_per_month(nasa_csv)\n",
    "len(flares_num_all)"
   ]
  },
  {
   "cell_type": "code",
   "execution_count": null,
   "metadata": {},
   "outputs": [],
   "source": [
    "flares_num_all"
   ]
  },
  {
   "cell_type": "code",
   "execution_count": null,
   "metadata": {},
   "outputs": [],
   "source": [
    "plt.bar(flares_num_all.keys(), flares_num_all.values() ,color=colors_list[1])\n",
    "plt.xticks(range(1,13))\n",
    "plt.show()"
   ]
  },
  {
   "cell_type": "code",
   "execution_count": null,
   "metadata": {},
   "outputs": [],
   "source": [
    "fig = plt.figure(figsize=(10, 6))\n",
    "ax = fig.add_axes([0, 0, 1, 1])\n",
    "ax.bar(flares_num_all.keys(), flares_num_all.values(), color=colors_list[1], width=0.35)\n",
    "ax.bar(np.array(list(flares_num_50.keys())) + .35, flares_num_50.values(), color=colors_list[0], width=0.35)\n",
    "ax.set_ylabel('Number of Flares', fontsize=16)\n",
    "ax.set_xlabel('Month', fontsize=16)\n",
    "ax.set_title('Number of Flares per months', fontsize=20)\n",
    "ax.set_xticks(range(1, 13))\n",
    "ax.legend(labels=['Full Nasa', 'Top 50'], fontsize=16)\n",
    "ax.grid(True, alpha=0.5, ls='--')\n",
    "plt.show()"
   ]
  },
  {
   "cell_type": "code",
   "execution_count": null,
   "metadata": {},
   "outputs": [],
   "source": []
  }
 ],
 "metadata": {
  "kernelspec": {
   "display_name": "Python 3",
   "language": "python",
   "name": "python3"
  },
  "language_info": {
   "codemirror_mode": {
    "name": "ipython",
    "version": 3
   },
   "file_extension": ".py",
   "mimetype": "text/x-python",
   "name": "python",
   "nbconvert_exporter": "python",
   "pygments_lexer": "ipython3",
   "version": "3.7.3"
  }
 },
 "nbformat": 4,
 "nbformat_minor": 2
}
