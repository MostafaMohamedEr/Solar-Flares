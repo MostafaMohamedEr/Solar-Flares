{
 "cells": [
  {
   "cell_type": "code",
   "execution_count": null,
   "metadata": {},
   "outputs": [],
   "source": [
    "\"\"\"\n",
    "Start of Project\n",
    "Space Weather Page\n",
    "\"\"\"\n",
    "import requests\n",
    "import pandas as pd\n",
    "import numpy as np\n",
    "from datetime import datetime\n",
    "from bs4 import BeautifulSoup\n",
    "\n",
    "spaceWeatherPage=requests.get('https://www.spaceweatherlive.com/en/solar-activity/top-50-solar-flares')\n",
    "spaceWeatherPageText=spaceWeatherPage.text\n",
    "#spaceWeatherPageText"
   ]
  },
  {
   "cell_type": "code",
   "execution_count": null,
   "metadata": {},
   "outputs": [],
   "source": [
    "page=BeautifulSoup(spaceWeatherPageText)\n",
    "#page.prettify()"
   ]
  },
  {
   "cell_type": "code",
   "execution_count": null,
   "metadata": {},
   "outputs": [],
   "source": [
    "#Reterving the table from the page\n",
    "Table=page.find('table','table table-striped table-responsive-md')\n",
    "rank=[]\n",
    "x_class=[]\n",
    "date=[]\n",
    "region=[]\n",
    "start_time=[]\n",
    "max_time=[]\n",
    "end_time=[]\n",
    "movie=[]\n",
    "Rows=Table.find_all('td')\n",
    "for rowIndex in range(len(Table.find_all('tr'))-1):\n",
    "    rank.append(Rows[0+8*rowIndex].text)\n",
    "    x_class.append(Rows[1+8*rowIndex].text)\n",
    "    date.append(Rows[2+8*rowIndex].text)\n",
    "    region.append(Rows[3+8*rowIndex].text)\n",
    "    start_time.append(Rows[4+8*rowIndex].text)\n",
    "    max_time.append(Rows[5+8*rowIndex].text)\n",
    "    end_time.append(Rows[6+8*rowIndex].text)\n",
    "    movie.append(Rows[7+8*rowIndex].text)\n",
    "spaceWeatherDataFrame=pd.DataFrame({'Rank':rank,'X_class':x_class,'Date':date,'Region':region,'Start_time':start_time,'Max_time':max_time,'End_time':end_time,'Movie':movie})\n",
    "spaceWeatherDataFrame.head()"
   ]
  },
  {
   "cell_type": "code",
   "execution_count": null,
   "metadata": {},
   "outputs": [],
   "source": [
    "modifiedDataFrame=spaceWeatherDataFrame\n",
    "del(modifiedDataFrame['Movie'])\n",
    "modifiedDataFrame.head()"
   ]
  },
  {
   "cell_type": "code",
   "execution_count": null,
   "metadata": {},
   "outputs": [],
   "source": [
    "for i in modifiedDataFrame.iterrows():\n",
    "    startTime=i[1][2]+' '+i[1][4]\n",
    "    maxTime=i[1][2]+' '+i[1][5]\n",
    "    endTime=i[1][2]+' '+i[1][6]\n",
    "    i[1][4]=datetime.strptime(startTime,'%Y/%m/%d %H:%M')\n",
    "    i[1][5]=datetime.strptime(maxTime,'%Y/%m/%d %H:%M')\n",
    "    i[1][6]=datetime.strptime(endTime,'%Y/%m/%d %H:%M')\n",
    "del(modifiedDataFrame['Date'])\n",
    "modifiedDataFrame"
   ]
  }
 ],
 "metadata": {
  "kernelspec": {
   "display_name": "Python 3",
   "language": "python",
   "name": "python3"
  },
  "language_info": {
   "codemirror_mode": {
    "name": "ipython",
    "version": 3
   },
   "file_extension": ".py",
   "mimetype": "text/x-python",
   "name": "python",
   "nbconvert_exporter": "python",
   "pygments_lexer": "ipython3",
   "version": "3.7.3"
  }
 },
 "nbformat": 4,
 "nbformat_minor": 2
}
